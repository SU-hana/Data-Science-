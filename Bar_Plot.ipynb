{
  "nbformat": 4,
  "nbformat_minor": 0,
  "metadata": {
    "colab": {
      "provenance": [],
      "authorship_tag": "ABX9TyP9QbWRh62ioVzoohZ3LzVd",
      "include_colab_link": true
    },
    "kernelspec": {
      "name": "python3",
      "display_name": "Python 3"
    },
    "language_info": {
      "name": "python"
    }
  },
  "cells": [
    {
      "cell_type": "markdown",
      "metadata": {
        "id": "view-in-github",
        "colab_type": "text"
      },
      "source": [
        "<a href=\"https://colab.research.google.com/github/athullya-mol/Data_Science_Lab/blob/main/Bar_Plot.ipynb\" target=\"_parent\"><img src=\"https://colab.research.google.com/assets/colab-badge.svg\" alt=\"Open In Colab\"/></a>"
      ]
    },
    {
      "cell_type": "markdown",
      "source": [
        "Write a Python program to create bar plot of\n",
        "scores by group and gender. Use multiple X values on \n",
        "the same chart for men and women.\n",
        "Sample Data:\n",
        "Means (men) = (22, 30, 35, 35, 26)\n",
        "Means (women) = (25, 32, 30, 35, 29)"
      ],
      "metadata": {
        "id": "2X9mp3gT2E6i"
      }
    },
    {
      "cell_type": "code",
      "source": [
        "import numpy as np\n",
        "import matplotlib.pyplot as plt"
      ],
      "metadata": {
        "id": "mCvhfx3Y2Tx3"
      },
      "execution_count": 1,
      "outputs": []
    },
    {
      "cell_type": "code",
      "source": [
        "y1 = [22,30,35,35,26]\n",
        "y2 = [25,32,30,35,29]\n",
        "x_labels = ['G1','G2','G3','G4','G5']\n",
        "x1 = np.arange(5)\n",
        "width = 0.40"
      ],
      "metadata": {
        "id": "kvq80V2S40Ge"
      },
      "execution_count": 2,
      "outputs": []
    },
    {
      "cell_type": "code",
      "source": [
        "plt.bar(x1-0.2,y1,color=\"green\",width=width,label='Men')\n",
        "plt.bar(x1+0.2,y2,color=\"red\",width=width,label='Women')\n",
        "plt.xticks(x1,x_labels)\n",
        "plt.xlabel(\"Person\")\n",
        "plt.ylabel(\"Scores\")\n",
        "plt.legend()\n",
        "plt.title(\"scores by group and gender\")\n",
        "plt.show()"
      ],
      "metadata": {
        "colab": {
          "base_uri": "https://localhost:8080/",
          "height": 295
        },
        "id": "W83Qw87f4_yK",
        "outputId": "b308e25f-d1c3-48fe-91c7-87f61e897c4b"
      },
      "execution_count": 3,
      "outputs": [
        {
          "output_type": "display_data",
          "data": {
            "text/plain": [
              "<Figure size 432x288 with 1 Axes>"
            ],
            "image/png": "[encoded data removed]"
          },
          "metadata": {
            "needs_background": "light"
          }
        }
      ]
    },
    {
      "cell_type": "markdown",
      "source": [],
      "metadata": {
        "id": "lqZlqGmG2B8s"
      }
    }
  ]
}