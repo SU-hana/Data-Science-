{
  "nbformat": 4,
  "nbformat_minor": 0,
  "metadata": {
    "colab": {
      "provenance": [],
      "include_colab_link": true
    },
    "kernelspec": {
      "name": "python3",
      "display_name": "Python 3"
    },
    "language_info": {
      "name": "python"
    }
  },
  "cells": [
    {
      "cell_type": "markdown",
      "metadata": {
        "id": "view-in-github",
        "colab_type": "text"
      },
      "source": [
        "<a href=\"https://colab.research.google.com/github/athullya-mol/Data_Science_Lab/blob/main/Naive_Bayes.ipynb\" target=\"_parent\"><img src=\"https://colab.research.google.com/assets/colab-badge.svg\" alt=\"Open In Colab\"/></a>"
      ]
    },
    {
      "cell_type": "markdown",
      "source": [
        "# **NAIVE BAYES ALGORITHM**"
      ],
      "metadata": {
        "id": "nx2bDCdI84M6"
      }
    },
    {
      "cell_type": "markdown",
      "source": [
        "Aim: Program to implement Naïve Bayes Algorithm using any standard dataset\n",
        "available in the public domain and find the accuracy of the algorithm"
      ],
      "metadata": {
        "id": "f4TwDjLCpTcn"
      }
    },
    {
      "cell_type": "markdown",
      "source": [
        "\n",
        "Short notes: Naive Bayes\n",
        "\n",
        "Bayes’ Theorem provides a way that we can calculate the probability of a piece of data belonging to a given class, given our prior knowledge. Bayes’ Theorem is stated as:\n",
        "\n",
        "P(class|data) = (P(data|class) * P(class)) / P(data)\n",
        "\n",
        "Where P(class|data) is the probability of class given the provided data."
      ],
      "metadata": {
        "id": "_23W0JVJq1-V"
      }
    },
    {
      "cell_type": "markdown",
      "source": [
        "### **Import Libraries**"
      ],
      "metadata": {
        "id": "a1QHuS6AJYKx"
      }
    },
    {
      "cell_type": "code",
      "source": [
        "import numpy as np\n",
        "import matplotlib.pyplot as plt\n",
        "import pandas as pd\n",
        "from sklearn import neighbors, datasets, preprocessing\n",
        "from sklearn.model_selection import train_test_split"
      ],
      "metadata": {
        "id": "N3sWnWz_rxIR"
      },
      "execution_count": 1,
      "outputs": []
    },
    {
      "cell_type": "markdown",
      "source": [
        "### **Loading IRIS dataset and categorization into test and train datasets**"
      ],
      "metadata": {
        "id": "GC_2ncdSJoV5"
      }
    },
    {
      "cell_type": "code",
      "source": [
        "iris = datasets.load_iris()\n",
        "x, y = iris.data[:, :], iris.target\n",
        "x_train, x_test, y_train, y_test = train_test_split(x, y, stratify = y, random_state = 0, train_size = 0.7)"
      ],
      "metadata": {
        "id": "rPgZXca_JkHa"
      },
      "execution_count": 9,
      "outputs": []
    },
    {
      "cell_type": "markdown",
      "source": [
        "### **Feature Scaling**"
      ],
      "metadata": {
        "id": "qZnvGmFxJ22F"
      }
    },
    {
      "cell_type": "code",
      "source": [
        "from sklearn.preprocessing import StandardScaler\n",
        "sc = StandardScaler()\n",
        "x_train = sc.fit_transform(x_train)\n",
        "x_test = sc.transform(x_test)"
      ],
      "metadata": {
        "id": "Jq-Uyizutrxu"
      },
      "execution_count": 10,
      "outputs": []
    },
    {
      "cell_type": "markdown",
      "source": [
        "## **Naive Bayes using GaussianNB and BernoulliNB**"
      ],
      "metadata": {
        "id": "e-eJE0HSKJYI"
      }
    },
    {
      "cell_type": "markdown",
      "source": [
        "### GaussianNB "
      ],
      "metadata": {
        "id": "2mUOepcMKWIv"
      }
    },
    {
      "cell_type": "code",
      "source": [
        "from sklearn.naive_bayes import GaussianNB, BernoulliNB\n",
        "from sklearn.metrics import confusion_matrix\n",
        "from sklearn.metrics import accuracy_score\n",
        "scores = []\n",
        "classifier = GaussianNB()\n",
        "classifier.fit(x_train, y_train)\n",
        "ypred = classifier.predict(x_test)\n",
        "scores.append(accuracy_score(y_test, ypred))\n",
        "cm = confusion_matrix(y_test, ypred)\n",
        "cm"
      ],
      "metadata": {
        "colab": {
          "base_uri": "https://localhost:8080/"
        },
        "id": "u0z9mzISuBKw",
        "outputId": "100e552a-0e35-4669-c85b-b349c199e6cb"
      },
      "execution_count": 11,
      "outputs": [
        {
          "output_type": "execute_result",
          "data": {
            "text/plain": [
              "array([[15,  0,  0],\n",
              "       [ 0, 15,  0],\n",
              "       [ 0,  1, 14]])"
            ]
          },
          "metadata": {},
          "execution_count": 11
        }
      ]
    },
    {
      "cell_type": "markdown",
      "source": [
        "## BernoulliNB"
      ],
      "metadata": {
        "id": "VEWCYGF-Kiqn"
      }
    },
    {
      "cell_type": "code",
      "source": [
        "from sklearn.naive_bayes import GaussianNB, BernoulliNB, CategoricalNB\n",
        "from sklearn.metrics import confusion_matrix\n",
        "from sklearn.metrics import accuracy_score\n",
        "classifier1 = BernoulliNB()\n",
        "classifier1.fit(x_train, y_train)\n",
        "ypred = classifier1.predict(x_test)\n",
        "scores.append(accuracy_score(y_test, ypred))\n",
        "cm = confusion_matrix(y_test, ypred)\n",
        "cm"
      ],
      "metadata": {
        "colab": {
          "base_uri": "https://localhost:8080/"
        },
        "id": "hv382A48usEq",
        "outputId": "4fbac567-6f91-4945-e9a4-7427f2487ae8"
      },
      "execution_count": 13,
      "outputs": [
        {
          "output_type": "execute_result",
          "data": {
            "text/plain": [
              "array([[15,  0,  0],\n",
              "       [ 1,  6,  8],\n",
              "       [ 0,  3, 12]])"
            ]
          },
          "metadata": {},
          "execution_count": 13
        }
      ]
    },
    {
      "cell_type": "markdown",
      "source": [
        "### **Printing Scores of both Naive bayes classifiers**"
      ],
      "metadata": {
        "id": "6-nRiXNQK-v5"
      }
    },
    {
      "cell_type": "code",
      "source": [
        "print(\"The score of gaussianNB {} and the score of bernouliNB {}\".format(scores[0],scores[1]))"
      ],
      "metadata": {
        "id": "Fn27CaUIvA7C",
        "colab": {
          "base_uri": "https://localhost:8080/"
        },
        "outputId": "686c9678-77af-4a93-9e27-7342d45fbd14"
      },
      "execution_count": 14,
      "outputs": [
        {
          "output_type": "stream",
          "name": "stdout",
          "text": [
            "The score of gaussianNB 0.9777777777777777 and the score of bernouliNB 0.7333333333333333\n"
          ]
        }
      ]
    }
  ]
}